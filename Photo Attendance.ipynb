{
 "cells": [
  {
   "cell_type": "code",
   "execution_count": 1,
   "metadata": {},
   "outputs": [],
   "source": [
    "import cv2"
   ]
  },
  {
   "cell_type": "code",
   "execution_count": 2,
   "metadata": {},
   "outputs": [],
   "source": [
    "reference_image_path = '11.pgm'\n",
    "test_images_paths = ['1.pgm','2.pgm','3.pgm','4.pgm','5.pgm','6.pgm','7.pgm','8.pgm','9.pgm','10.pgm']"
   ]
  },
  {
   "cell_type": "code",
   "execution_count": 3,
   "metadata": {},
   "outputs": [],
   "source": [
    "reference_image = cv2.imread(\"ref_images/\" + reference_image_path, cv2.IMREAD_GRAYSCALE)\n",
    "test_images = [cv2.imread(\"test_images/\" + img_path, cv2.IMREAD_GRAYSCALE) for img_path in test_images_paths]"
   ]
  },
  {
   "cell_type": "markdown",
   "metadata": {},
   "source": [
    "loading the test and reference images"
   ]
  },
  {
   "cell_type": "code",
   "execution_count": 4,
   "metadata": {},
   "outputs": [],
   "source": [
    "orb = cv2.ORB_create()"
   ]
  },
  {
   "cell_type": "markdown",
   "metadata": {},
   "source": [
    "we use the ORB algorithm for feature matching"
   ]
  },
  {
   "cell_type": "code",
   "execution_count": 5,
   "metadata": {},
   "outputs": [],
   "source": [
    "keypoints_ref, descriptors_ref = orb.detectAndCompute(reference_image, None)\n"
   ]
  },
  {
   "cell_type": "markdown",
   "metadata": {},
   "source": [
    "detect and compute keypoints and descriptors for the reference image"
   ]
  },
  {
   "cell_type": "code",
   "execution_count": 6,
   "metadata": {},
   "outputs": [
    {
     "name": "stdout",
     "output_type": "stream",
     "text": [
      "The best matching image is: 8.pgm\n"
     ]
    }
   ],
   "source": [
    "bf = cv2.BFMatcher(cv2.NORM_HAMMING, crossCheck=True)\n",
    "\n",
    "best_match_index = -1\n",
    "max_good_matches = 0\n",
    "i = 0\n",
    "\n",
    "for test_image in test_images:\n",
    "    keypoints_test, descriptors_test = orb.detectAndCompute(test_image, None)\n",
    "\n",
    "    matches = bf.match(descriptors_ref, descriptors_test)\n",
    "    matches = sorted(matches, key=lambda x: x.distance)\n",
    "\n",
    "    good_matches = [m for m in matches if m.distance < 50]  \n",
    "\n",
    "    if len(good_matches) > max_good_matches:\n",
    "        max_good_matches = len(good_matches)\n",
    "        best_match_index = i\n",
    "    i += 1\n",
    "\n",
    "# Output the best match\n",
    "if best_match_index != -1:\n",
    "    best_match_image = test_images_paths[best_match_index]\n",
    "    print(f\"The best matching image is: {best_match_image}\")\n",
    "else:\n",
    "    print(\"No good match found.\")\n"
   ]
  },
  {
   "cell_type": "markdown",
   "metadata": {},
   "source": [
    "we initialize the BFMatcher\n",
    "<br> for each test image, we match the descriptors of the test image and the reference image\n",
    "<br> the test image with the most matches to the reference image is selected as the best match, at the end of the loop"
   ]
  },
  {
   "cell_type": "code",
   "execution_count": 7,
   "metadata": {},
   "outputs": [
    {
     "name": "stderr",
     "output_type": "stream",
     "text": [
      "2024-05-22 04:14:01.729 Python[9031:250138] WARNING: Secure coding is not enabled for restorable state! Enable secure coding by implementing NSApplicationDelegate.applicationSupportsSecureRestorableState: and returning YES.\n"
     ]
    }
   ],
   "source": [
    "if best_match_index != -1:\n",
    "    best_test_image = cv2.imread(\"test_images/\" + test_images_paths[best_match_index], cv2.IMREAD_GRAYSCALE)\n",
    "    keypoints_best, descriptors_best = orb.detectAndCompute(best_test_image, None)\n",
    "    matches = bf.match(descriptors_ref, descriptors_best)\n",
    "    matches = sorted(matches, key=lambda x: x.distance)\n",
    "    matched_image = cv2.drawMatches(reference_image, keypoints_ref, best_test_image, keypoints_best, matches[:10], None, flags=cv2.DrawMatchesFlags_NOT_DRAW_SINGLE_POINTS)\n",
    "    cv2.imshow('Best Match', matched_image)\n",
    "    cv2.waitKey(0)\n",
    "    cv2.destroyAllWindows()\n",
    "    cv2.waitKey(1)\n",
    "\n"
   ]
  },
  {
   "cell_type": "code",
   "execution_count": null,
   "metadata": {},
   "outputs": [],
   "source": []
  }
 ],
 "metadata": {
  "kernelspec": {
   "display_name": "Python 3",
   "language": "python",
   "name": "python3"
  },
  "language_info": {
   "codemirror_mode": {
    "name": "ipython",
    "version": 3
   },
   "file_extension": ".py",
   "mimetype": "text/x-python",
   "name": "python",
   "nbconvert_exporter": "python",
   "pygments_lexer": "ipython3",
   "version": "3.11.4"
  }
 },
 "nbformat": 4,
 "nbformat_minor": 2
}
